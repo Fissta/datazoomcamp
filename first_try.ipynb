{
 "cells": [
  {
   "cell_type": "code",
   "execution_count": null,
   "id": "8699339b-5b3a-40e0-8695-50ed43c5216f",
   "metadata": {},
   "outputs": [],
   "source": [
    "print(\"Hello World in Codespaces\")"
   ]
  },
  {
   "cell_type": "code",
   "execution_count": null,
   "id": "b08d5220",
   "metadata": {},
   "outputs": [],
   "source": [
    "docker run -it \\\n",
    "  -e POSTGRES_USER=\"root\" \\\n",
    "  -e POSTGRES_PASSWORD=\"root\" \\\n",
    "  -e POSTGRES_DB=\"ny_taxi\" \\\n",
    "  -v dtc_postgres_volume_local:/var/lib/postgresql/data \\\n",
    "  -p 5432:5432 \\\n",
    "  --network=pg-network \\\n",
    "  --name pg-database \\\n",
    "  postgres:13"
   ]
  }
 ],
 "metadata": {
  "kernelspec": {
   "display_name": "Python 3 (ipykernel)",
   "language": "python",
   "name": "python3"
  },
  "language_info": {
   "codemirror_mode": {
    "name": "ipython",
    "version": 3
   },
   "file_extension": ".py",
   "mimetype": "text/x-python",
   "name": "python",
   "nbconvert_exporter": "python",
   "pygments_lexer": "ipython3",
   "version": "3.12.1"
  }
 },
 "nbformat": 4,
 "nbformat_minor": 5
}
